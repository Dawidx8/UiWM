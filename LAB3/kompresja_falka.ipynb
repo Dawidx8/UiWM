from matplotlib.image import imread
import numpy as np
import matplotlib.pyplot as plt
import os
import pywt
import cv2
from PIL import Image
from google.colab.patches import cv2_imshow
from copy import copy


def wave(img, keep):
  r,g,b = cv2.split(img)
  BGR = [r,g,b]
  BGR_new = []
  n = 4
  w = 'db2'

  for i in range(len(BGR)):
    coeffs = pywt.wavedec2(BGR[i],wavelet=w,level=4)
    coeff_arr, coeff_slices = pywt.coeffs_to_array(coeffs)

    thresh = keep*np.std(BGR[i])
    coeff_arr = np.where(np.abs(coeff_arr) < thresh, 0.0, coeff_arr)

    coeffs_filt = pywt.array_to_coeffs(coeff_arr,coeff_slices,output_format='wavedec2')

    BGR_new.append(pywt.waverec2(coeffs_filt,wavelet=w))
    np.uint8(BGR_new[i])

  rgb = cv2.merge([BGR_new[0], BGR_new[1], BGR_new[2]])

  return rgb, coeff_arr



# img = cv2.imread('panda.jpg')
# img = cv2.imread('circle.jpg')
# img = cv2.imread('milky-way.jpg')
# img = cv2.imread('mond.jpg')
img = cv2.imread('namib.jpg')

N = img.shape[0] * img.shape[1]
keep = 0.3

rgb, coeff_arr = wave(img, keep)
rgb = cv2.resize(rgb, (img.shape[1], img.shape[0]), interpolation = cv2.INTER_AREA)
MAE = (np.abs(rgb - img).sum())/N
C = (np.count_nonzero(np.abs(coeff_arr) <= 0.0001)/(coeff_arr.shape[0]*coeff_arr.shape[1])) * 100

print("Blad MAE: " + str(MAE))
print("Kompresja C: " + str(round(C,2)) + "%")

cv2_imshow(img)
cv2_imshow(rgb)
cv2.imwrite("kompresja.jpg", rgb)
