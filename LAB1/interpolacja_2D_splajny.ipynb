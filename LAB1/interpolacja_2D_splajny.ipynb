{
  "nbformat": 4,
  "nbformat_minor": 0,
  "metadata": {
    "colab": {
      "provenance": []
    },
    "kernelspec": {
      "name": "python3",
      "display_name": "Python 3"
    },
    "language_info": {
      "name": "python"
    }
  },
  "cells": [
    {
      "cell_type": "code",
      "execution_count": null,
      "metadata": {
        "id": "01kJXWeL0BNT"
      },
      "outputs": [],
      "source": [
        "import matplotlib.pyplot as plt\n",
        "import numpy as np\n",
        "import math\n",
        "from scipy.interpolate import CubicSpline, interp1d\n",
        "from sklearn.metrics import mean_squared_error as MSE\n",
        "import cv2\n",
        "from google.colab.patches import cv2_imshow\n",
        "from copy import copy\n",
        "\n",
        "\n",
        "img = cv2.imread('Pasikonik.jpg')\n",
        "img = cv2.resize(img, (500,500))\n",
        "img_x, img_y, channels = img.shape\n",
        "img = np.array(img)\n",
        "scale = 0.5\n",
        "img_new = np.zeros((int(scale*img_x), int(scale*img_y), channels))\n",
        "x = np.arange(img_y)\n",
        "x_interp = np.linspace(0,img_y-1,num=int(img_y*scale))\n",
        "\n",
        "\n",
        "# POMNIEJSZANIE\n",
        "img_copy = copy(img)\n",
        "for c in range(channels):\n",
        "    for i in range(img_y):\n",
        "      # f = interp1d(x, img[i,:,c], kind = 'linear')\n",
        "      # f = interp1d(x, img[i,:,c], kind = 'quadratic')\n",
        "      f = interp1d(x, img[i,:,c], kind = 'cubic')\n",
        "      img_copy[i,0:int(img_y*scale),c] = f(x_interp)\n",
        "\n",
        "    for j in range(int(img_x*scale)):\n",
        "      # f = interp1d(x, img_copy[0:img_x,j,c], kind = 'linear')\n",
        "      # f = interp1d(x, img_copy[0:img_x,j,c], kind = 'quadratic')\n",
        "      f = interp1d(x, img_copy[0:img_x,j,c], kind = 'cubic')\n",
        "      img_new[:,j,c] = f(x_interp)\n",
        "\n",
        "      \n",
        "# POWIEKSZANIE\n",
        "img = copy(img_new)\n",
        "img_x, img_y, channels = img.shape\n",
        "img = np.array(img)\n",
        "scale = 2\n",
        "img_new = np.zeros((int(scale*img_x), int(scale*img_y), channels))\n",
        "x = np.arange(img_y)\n",
        "x_interp = np.linspace(0,img_y-1,num=int(img_y*scale))\n",
        "for c in range(channels):\n",
        "    for i in range(img_y):\n",
        "      # f = interp1d(x, img[i,:,c], kind = 'linear')\n",
        "      # f = interp1d(x, img[i,:,c], kind = 'quadratic')\n",
        "      f = interp1d(x, img[i,:,c], kind = 'cubic')\n",
        "      img_new[i,:,c] = f(x_interp)\n",
        "\n",
        "    for j in range(int(img_x*scale)):\n",
        "      # f = interp1d(x, img_new[0:img_x,j,c], kind = 'linear')\n",
        "      # f = interp1d(x, img_new[0:img_x,j,c], kind = 'quadratic')\n",
        "      f = interp1d(x, img_new[0:img_x,j,c], kind = 'cubic')\n",
        "      img_new[:,j,c] = f(x_interp)\n",
        "\n",
        "\n",
        "\n",
        "# cv2_imshow(img)\n",
        "cv2_imshow(img_new)\n",
        "print(img_new.shape)\n",
        "\n"
      ]
    }
  ]
}