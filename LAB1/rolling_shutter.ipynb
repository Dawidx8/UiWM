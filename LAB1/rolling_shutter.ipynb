import matplotlib.pyplot as plt
import numpy as np
import math
from scipy.interpolate import CubicSpline, interp1d
from sklearn.metrics import mean_squared_error as MSE

x=np.linspace(0.00001, 2* np.pi, 100)
y1 = np.sin(x)
# y1 = np.sin(1/x)
# y1 = np.sign(np.sin(8*x))

# cs = interp1d(x, y1, kind = 'linear')
# cs = interp1d(x, y1, kind = 'quadratic')
cs = interp1d(x, y1, kind = 'cubic')
xs = np.linspace(0.00001, 2* np.pi, 1000)
f_t= np.sin(xs)
# f_t = np.sin(1/xs)
# f_t = np.sign(np.sin(8*xs))
f_s= cs(xs)
mse = MSE(f_t, f_s)
print(mse)

fig = plt.figure()

plt.scatter(x, y1)
plt.plot(xs,f_t,'g')
plt.plot(xs, f_s, 'r')
plt.grid()
plt.legend(["próbki", "funkcja rzeczywista", "funkcja interpolująca"])

plt.show()
